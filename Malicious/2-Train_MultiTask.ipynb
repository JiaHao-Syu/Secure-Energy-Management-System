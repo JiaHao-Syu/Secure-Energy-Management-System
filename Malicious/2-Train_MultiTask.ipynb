{
 "cells": [
  {
   "cell_type": "code",
   "execution_count": null,
   "id": "859930b5",
   "metadata": {},
   "outputs": [],
   "source": [
    "import sys\n",
    "import torch\n",
    "import sklearn\n",
    "import numpy as np\n",
    "from einops import rearrange\n",
    "import torch.nn.functional as Fun\n",
    "from sklearn.model_selection import train_test_split"
   ]
  },
  {
   "cell_type": "code",
   "execution_count": null,
   "id": "b952f966",
   "metadata": {},
   "outputs": [],
   "source": [
    "ID = 1\n",
    "WS = 10\n",
    "EPOC = 300\n",
    "batch_size = 4096\n",
    "PATH = 'Model/Multitask_Net'\n",
    "\n",
    "device = torch.device(\"cuda:0\" if torch.cuda.is_available() else \"cpu\")\n",
    "print(device)"
   ]
  },
  {
   "cell_type": "code",
   "execution_count": null,
   "id": "019bb182",
   "metadata": {},
   "outputs": [],
   "source": [
    "def Load_Data(PATH, isd, iid):\n",
    "    PRFIX_P = 'HPQ-10-'\n",
    "    PRFIX_R = 'HRQ-10-'\n",
    "    X, Y = [], []\n",
    "    \n",
    "#     for isd in range(5):\n",
    "#     for iid in range(1,6):\n",
    "    P = np.load(PATH+PRFIX_P+str(isd)+'-'+str(iid)+'.npy', allow_pickle=True)\n",
    "    R = np.load(PATH+PRFIX_R+str(isd)+'-'+str(iid)+'.npy', allow_pickle=True)\n",
    "    for i in range(np.shape(P)[0]):\n",
    "        if np.shape(P[i])[0]<=WS: continue\n",
    "        print(iid, ' - ', i+1, '/', np.shape(P)[0], end='\\r')\n",
    "        for j in range(np.shape(P[i])[0]-WS):\n",
    "            hp, cp = P[i][j:j+WS], P[i][j+WS]\n",
    "            hr, cr = R[i][j:j+WS], R[i][j+WS]\n",
    "            rate = [hr[k]/hp[k] if hp[k]!=0 else 0 for k in range(WS)]\n",
    "            Rate = np.asarray(rate)\n",
    "            if (Rate==0).all():              yl=1\n",
    "            elif (abs(Rate-0.5)<0.01).all(): yl=2\n",
    "            elif (abs(Rate-0.5)<0.01).any() or (Rate==0).any(): yl=3\n",
    "            else: yl=0\n",
    "            X.append(hp+hr+rate+[cp])\n",
    "            Y.append([cr/cp if cp!=0 else 0, yl])\n",
    "    return X, Y"
   ]
  },
  {
   "cell_type": "code",
   "execution_count": null,
   "id": "faefd4a8",
   "metadata": {},
   "outputs": [],
   "source": [
    "X, Y = Load_Data('Training_Dataset/', 0, 1)\n",
    "X_train, X_test, Y_train, Y_test = train_test_split(X, Y, test_size=0.2, random_state=1)\n",
    "X_train, X_val,  Y_train, Y_val  = train_test_split(X_train, Y_train, test_size=0.25, random_state=1)\n",
    "X_train, X_val, X_test = torch.tensor(X_train).float().to(device), torch.tensor(X_val).float().to(device), torch.tensor(X_test).float().to(device)\n",
    "Y_train, Y_val, Y_test = torch.tensor(Y_train).float().to(device), torch.tensor(Y_val).float().to(device), torch.tensor(Y_test).float().to(device)\n",
    "YP1, YP2, YP3, YP4 = np.sum(np.asarray(Y, dtype=int)[:,1]==0)/np.size(Y)*2, np.sum(np.asarray(Y, dtype=int)[:,1]==1)/np.size(Y)*2, np.sum(np.asarray(Y, dtype=int)[:,1]==2)/np.size(Y)*2, np.sum(np.asarray(Y, dtype=int)[:,1]==3)/np.size(Y)*2\n",
    "print(np.shape(X_train), np.shape(Y_train))\n",
    "print(np.shape(X_val), np.shape(Y_val))\n",
    "print(np.shape(X_test), np.shape(Y_test))\n",
    "print(round(YP1,3), round(YP2,3), round(YP3,3), round(YP4,3))\n",
    "print(round(1/YP1,3), round(1/YP2,3), round(1/YP3,3), round(1/YP4,3))"
   ]
  },
  {
   "cell_type": "code",
   "execution_count": null,
   "id": "232f57f3",
   "metadata": {},
   "outputs": [],
   "source": [
    "class Net(torch.nn.Module):\n",
    "    def __init__(self):\n",
    "        super(Net, self).__init__()\n",
    "        self.Atten1 = torch.nn.MultiheadAttention(1, 1, batch_first=True)\n",
    "        self.Atten2 = torch.nn.MultiheadAttention(1, 1, batch_first=True)\n",
    "        self.Atten3 = torch.nn.MultiheadAttention(1, 1, batch_first=True)\n",
    "        self.Class1 = torch.nn.Linear(10,8)\n",
    "        self.Class2 = torch.nn.Linear( 8,4)\n",
    "        \n",
    "        self.FC2o1  = torch.nn.Linear(7,8)\n",
    "        self.FC2o2  = torch.nn.Linear(8,4)\n",
    "        self.FC2o3  = torch.nn.Linear(4,1)\n",
    "        self.FC3o1  = torch.nn.Linear(3,4)\n",
    "        self.FC3o2  = torch.nn.Linear(4,1)\n",
    "        self.LRelu  = torch.nn.LeakyReLU()\n",
    "        self.softm  = torch.nn.Softmax(dim=1)\n",
    "    def forward(self, x):\n",
    "        x1, x2, x3, x4 = x[:, :WS], x[:, WS:WS*2], x[:, WS*2:WS*3], x[:, WS*3:WS*3+1]\n",
    "        CLA = self.softm( self.Class2( self.LRelu(self.Class1(x3))))\n",
    "        N = np.shape(x1)[0]\n",
    "        x1, x2, x3, x4 = torch.reshape(x1, (N,WS,1)), torch.reshape(x2, (N,WS,1)), torch.reshape(x3, (N,WS,1)), torch.reshape(x4, (N,1,1))\n",
    "        attn_output1, attn_output_weights1 = self.Atten1(x4, x1, x1)\n",
    "        attn_output2, attn_output_weights2 = self.Atten2(x4, x1, x2)\n",
    "        attn_output3, attn_output_weights3 = self.Atten3(x4, x1, x3)\n",
    "        x1 = torch.sum( torch.reshape(x1,(N,-1)) * torch.reshape(attn_output_weights1,(N,-1)), 1)\n",
    "        x2 = torch.sum( torch.reshape(x2,(N,-1)) * torch.reshape(attn_output_weights2,(N,-1)), 1)\n",
    "        x3 = torch.sum( torch.reshape(x3,(N,-1)) * torch.reshape(attn_output_weights3,(N,-1)), 1)\n",
    "        atx = torch.cat((torch.reshape(attn_output1,(N,1)), torch.reshape(attn_output2,(N,1)), torch.reshape(attn_output3,(N,1)), CLA), 1)\n",
    "        out1= torch.sigmoid( self.FC2o3( self.LRelu(self.FC2o2( self.LRelu(self.FC2o1(atx))))))\n",
    "        ### Ensemble\n",
    "        esx = (torch.cat((out1, torch.reshape(x3,(N,1)), torch.nan_to_num(torch.reshape(x2/(x1+1E-9),(N,1)))), 1) )\n",
    "        out = torch.sigmoid( self.FC3o2( self.LRelu(self.FC3o1(esx))))\n",
    "        return CLA, out, attn_output_weights1, attn_output_weights2, attn_output_weights3\n"
   ]
  },
  {
   "cell_type": "markdown",
   "id": "9b858145",
   "metadata": {},
   "source": [
    "### Training & Validation"
   ]
  },
  {
   "cell_type": "code",
   "execution_count": null,
   "id": "fd809039",
   "metadata": {
    "scrolled": true
   },
   "outputs": [],
   "source": [
    "netS      = Net()\n",
    "loss_fnp  = torch.nn.L1Loss()\n",
    "loss_fnc  = torch.nn.CrossEntropyLoss(weight=torch.tensor([1/YP1, 1/YP2, 1/YP3, 1/YP4]).to(device))\n",
    "optimizer = torch.optim.Adam(netS.parameters(), lr=0.01)\n",
    "NB        = np.shape(Y_train)[0]//batch_size     # Number of batch\n",
    "BLC, BLP  = np.inf, np.inf                       # Best loss for save best\n",
    "netS.to(device)\n",
    "\n",
    "for epoc in range(EPOC):\n",
    "    LC, LP = 0, 0\n",
    "    for b in range(NB):\n",
    "        t, f = b*batch_size, (b+1)*batch_size\n",
    "        if b==NB-1: x, yc, yp = X_train[t: ], Fun.one_hot(Y_train[t: ,1].to(torch.int64), num_classes=4), Y_train[t: ,0]\n",
    "        else:       x, yc, yp = X_train[t:f], Fun.one_hot(Y_train[t:f,1].to(torch.int64), num_classes=4), Y_train[t:f,0]\n",
    "        \n",
    "        cla, pred, w1, w2, w3 = netS(x)\n",
    "        optimizer.zero_grad()\n",
    "        lossc = loss_fnc( torch.reshape(cla,(-1,4)), yc.float())\n",
    "        LC   += float(lossc)\n",
    "        lossc.backward(retain_graph=True)\n",
    "        lossp = loss_fnp( torch.reshape(pred,(-1,)), yp)\n",
    "        LP   += float(lossp)\n",
    "        lossp.backward()\n",
    "        optimizer.step()\n",
    "        optimizer.zero_grad()\n",
    "    x, yc, yp = X_val, Fun.one_hot(Y_val[:,1].to(torch.int64), num_classes=4), Y_val[:,0]\n",
    "    cla, pred, w1, w2, w3 = netS(x)\n",
    "    lossc = float( loss_fnc( torch.reshape(cla,(-1,4)), yc.float()) )\n",
    "    lossp = float( loss_fnp( torch.reshape(pred,(-1,)), yp) )\n",
    "    print(epoc+1, '/', EPOC, ' - ', round(lossc,5), round( (np.argmax(cla.to('cpu').detach().numpy(),axis=1)==(np.argmax(yc.to('cpu').detach().numpy(),axis=1))).mean(),3), round(lossp,5))\n",
    "    \n",
    "    if lossc<BLC:\n",
    "        BLC = lossc\n",
    "        torch.save(netS.state_dict(), PATH+'C_'+str(ID)+'.pt') \n",
    "        print('Save Best Classification at', epoc, 'with loss of', lossc)\n",
    "    if lossp<BLP:\n",
    "        BLP = lossp\n",
    "        torch.save(netS.state_dict(), PATH+'P_'+str(ID)+'.pt') \n",
    "        print('Save Best Prediction at', epoc, 'with loss of', lossp)\n",
    "print(round(lossc,5), round(lossp,5))"
   ]
  },
  {
   "cell_type": "markdown",
   "id": "b47da32e",
   "metadata": {},
   "source": [
    "### Testing"
   ]
  },
  {
   "cell_type": "code",
   "execution_count": null,
   "id": "9a676fd9",
   "metadata": {},
   "outputs": [],
   "source": [
    "netS.load_state_dict(torch.load(PATH+'C_'+str(ID)+'.pt'))\n",
    "x, yc, yp = X_test, Fun.one_hot(Y_test[:,1].to(torch.int64), num_classes=4), Y_test[:,0]\n",
    "cla, pred, w1, w2, w3 = netS(x)\n",
    "lossc = float( loss_fnc( torch.reshape(cla,(-1,4)), yc.float()) )\n",
    "lossp = float( loss_fnp( torch.reshape(pred,(-1,)), yp) )\n",
    "print('Testing Loss:', round(lossc,5), round( (np.argmax(cla.to('cpu').detach().numpy(),axis=1)==(np.argmax(yc.to('cpu').detach().numpy(),axis=1))).mean(),3), round(lossp,5))\n",
    "P = np.argmax(cla.to('cpu').detach().numpy(),axis=1)\n",
    "G = (np.argmax(yc.to('cpu').detach().numpy(),axis=1))\n",
    "CM = np.zeros((4,4), dtype=int)\n",
    "for i in range(np.shape(P)[0]):\n",
    "    CM[G[i]][P[i]] += 1\n",
    "print(CM)"
   ]
  },
  {
   "cell_type": "code",
   "execution_count": null,
   "id": "92b4b1d5",
   "metadata": {},
   "outputs": [],
   "source": [
    "netS.load_state_dict(torch.load(PATH+'P_'+str(ID)+'.pt'))\n",
    "x, yc, yp = X_test, Fun.one_hot(Y_test[:,1].to(torch.int64), num_classes=4), Y_test[:,0]\n",
    "cla, pred, w1, w2, w3 = netS(x)\n",
    "lossc = float( loss_fnc( torch.reshape(cla,(-1,4)), yc.float()) )\n",
    "lossp = float( loss_fnp( torch.reshape(pred,(-1,)), yp) )\n",
    "print('Testing Loss:', round(lossc,5), round( (np.argmax(cla.to('cpu').detach().numpy(),axis=1)==(np.argmax(yc.to('cpu').detach().numpy(),axis=1))).mean(),3), round(lossp,5))\n",
    "P = np.argmax(cla.to('cpu').detach().numpy(),axis=1)\n",
    "G = (np.argmax(yc.to('cpu').detach().numpy(),axis=1))\n",
    "CM = np.zeros((4,4), dtype=int)\n",
    "for i in range(np.shape(P)[0]):\n",
    "    CM[G[i]][P[i]] += 1\n",
    "print(CM)"
   ]
  },
  {
   "cell_type": "code",
   "execution_count": null,
   "id": "e96ac24b",
   "metadata": {},
   "outputs": [],
   "source": []
  }
 ],
 "metadata": {
  "kernelspec": {
   "display_name": "Python 3 (ipykernel)",
   "language": "python",
   "name": "python3"
  },
  "language_info": {
   "codemirror_mode": {
    "name": "ipython",
    "version": 3
   },
   "file_extension": ".py",
   "mimetype": "text/x-python",
   "name": "python",
   "nbconvert_exporter": "python",
   "pygments_lexer": "ipython3",
   "version": "3.9.13"
  }
 },
 "nbformat": 4,
 "nbformat_minor": 5
}
